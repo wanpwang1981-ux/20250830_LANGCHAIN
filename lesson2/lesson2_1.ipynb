{
 "cells": [
  {
   "cell_type": "markdown",
   "id": "a34b318f",
   "metadata": {},
   "source": [
    "# 基本資料\n",
    "字串->str\n",
    "整數->int\n",
    "浮點數->float\n",
    "布林值->bool\n",
    "name = \"小明\"\n",
    "age = 18\n",
    "height = 175.5\n",
    "is_student = True\n",
    "# python內建函式(https://docs.python.org/zh-tw/3/library/functions.html)\n",
    "# 使用perplexity，看說明書。\n",
    "PROMPT：python type()的說明書和小範例"
   ]
  },
  {
   "cell_type": "code",
   "execution_count": 4,
   "id": "c48aadfc",
   "metadata": {},
   "outputs": [
    {
     "name": "stdout",
     "output_type": "stream",
     "text": [
      "小明\n",
      "<class 'str'>\n",
      "=========================\n",
      "18\n",
      "<class 'int'>\n",
      "=========================\n",
      "175.5\n",
      "<class 'float'>\n",
      "=========================\n",
      "True\n",
      "<class 'bool'>\n",
      "=========================\n"
     ]
    }
   ],
   "source": [
    "name = \"小明\"\n",
    "print(name)\n",
    "print(type(name)) #呼叫function\n",
    "print(\"=========================\")\n",
    "age = 18\n",
    "print(age)\n",
    "print(type(age))\n",
    "print(\"=========================\")\n",
    "height = 175.5\n",
    "print(height)\n",
    "print(type(height))\n",
    "print(\"=========================\")\n",
    "is_student = True\n",
    "print(is_student)\n",
    "print(type(is_student))\n",
    "print(\"=========================\")"
   ]
  },
  {
   "cell_type": "code",
   "execution_count": 13,
   "id": "086edf95",
   "metadata": {},
   "outputs": [
    {
     "name": "stdout",
     "output_type": "stream",
     "text": [
      "name變數儲存的值是小明,資料類型是<class 'str'>.\n",
      "age變數儲存的值是18,資料類型是<class 'int'>.\n"
     ]
    }
   ],
   "source": [
    "print(\"name變數儲存的值是\",name,\",資料類型是\",type(name),sep='',end='.\\n')\n",
    "print(\"age變數儲存的值是\",age,\",資料類型是\",type(age),sep='',end='.\\n')\n"
   ]
  },
  {
   "cell_type": "code",
   "execution_count": 17,
   "id": "e05e3085",
   "metadata": {},
   "outputs": [
    {
     "name": "stdout",
     "output_type": "stream",
     "text": [
      "name變數儲存的值是小明,資料類型是<class 'str'>.\n",
      "age變數儲存的值是18,資料類型是<class 'int'>.\n"
     ]
    }
   ],
   "source": [
    "#字串插補\n",
    "print(f\"name變數儲存的值是{name},資料類型是{type(name)}.\")\n",
    "print(f\"age變數儲存的值是{age},資料類型是{type(age)}.\")"
   ]
  },
  {
   "cell_type": "code",
   "execution_count": 20,
   "id": "cec3c320",
   "metadata": {},
   "outputs": [
    {
     "name": "stdout",
     "output_type": "stream",
     "text": [
      "加法 a + b =: 10\n",
      "減法 a - b =: 4\n",
      "乘法 a * b =: 21\n",
      "除法 a / b =: 2.33\n",
      "取餘數 a % b =: 1\n",
      "次方 a ** b =: 343\n"
     ]
    }
   ],
   "source": [
    "# 變數運算範例\n",
    "a = 7\n",
    "b = 3\n",
    "\n",
    "addition = a + b\n",
    "subtraction = a - b\n",
    "multiplication = a * b\n",
    "division = a / b\n",
    "modulus = a % b\n",
    "power = a ** b\n",
    "\n",
    "print(f\"加法 a + b =: {addition}\")\n",
    "print(f\"減法 a - b =: {subtraction}\")\n",
    "print(f\"乘法 a * b =: {multiplication}\")\n",
    "print(f\"除法 a / b =: {division:.2f}\")\n",
    "print(f\"取餘數 a % b =: {modulus}\")\n",
    "print(f\"次方 a ** b =: {power}\")\n"
   ]
  },
  {
   "cell_type": "code",
   "execution_count": null,
   "id": "d04603e9",
   "metadata": {},
   "outputs": [
    {
     "name": "stdout",
     "output_type": "stream",
     "text": [
      "直角三角形的斜邊長度是5.00\n"
     ]
    }
   ],
   "source": [
    "# 有一個直角亖角形，己知兩邊長,求第三邊長\n",
    "# 已知兩邊長，求第三邊長\n",
    "\n",
    "import math\n",
    "\n",
    "adjacent_side = 3 # 鄰邊長度\n",
    "opposite_side = 4 # 對邊長度\n",
    "\n",
    "# 使用畢式定理計算斜邊長度\n",
    "hypotenuse = math.sqrt(adjacent_side**2 + opposite_side**2)\n",
    "\n",
    "print(f\"直角三角形的斜邊長度是{hypotenuse:.2f}\")"
   ]
  },
  {
   "cell_type": "code",
   "execution_count": null,
   "id": "271a137e",
   "metadata": {},
   "outputs": [],
   "source": [
    "import math()\n",
    "\n",
    "adjacent_side = 3 # 鄰邊長度\n",
    "opposite_side = 4 # 對邊長度\n",
    "\n",
    "# 使用勾股定理計算斜邊長度\n",
    "hypotenuse_length = math.sqrt(adjacent_side**2 + opposite_side**2)"
   ]
  }
 ],
 "metadata": {
  "kernelspec": {
   "display_name": "LangChain",
   "language": "python",
   "name": "python3"
  },
  "language_info": {
   "codemirror_mode": {
    "name": "ipython",
    "version": 3
   },
   "file_extension": ".py",
   "mimetype": "text/x-python",
   "name": "python",
   "nbconvert_exporter": "python",
   "pygments_lexer": "ipython3",
   "version": "3.11.13"
  }
 },
 "nbformat": 4,
 "nbformat_minor": 5
}
