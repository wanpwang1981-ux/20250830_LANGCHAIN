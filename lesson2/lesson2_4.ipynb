{
 "cells": [
  {
   "cell_type": "code",
   "execution_count": 1,
   "id": "ce5d93f7",
   "metadata": {},
   "outputs": [
    {
     "name": "stdout",
     "output_type": "stream",
     "text": [
      "--- 高度為 5 的聖誕樹 ---\n",
      "    *\n",
      "   ***\n",
      "  *****\n",
      " *******\n",
      "*********\n",
      "    |\n",
      "   ---\n",
      "\n",
      "--- 高度為 8 的聖誕樹 ---\n",
      "       *\n",
      "      ***\n",
      "     *****\n",
      "    *******\n",
      "   *********\n",
      "  ***********\n",
      " *************\n",
      "***************\n",
      "       |\n",
      "      ---\n"
     ]
    }
   ],
   "source": [
    "#自訂function\n",
    "##定義function\n",
    "##def 名稱(參數,參數)\n",
    "###程式區塊\n",
    "##呼叫funcion\n",
    "##名稱(引數值,引數值)\n",
    "\n",
    "#自訂一個function，必需列印出聖誕樹\n",
    "#todo:實作function列印聖誕樹\n",
    "def print_christmas_tree(height):\n",
    "    \"\"\"\n",
    "    列印一個指定高度的聖誕樹。\n",
    "    \n",
    "    Args:\n",
    "        height (int): 聖誕樹的高度。\n",
    "    \"\"\"\n",
    "    \n",
    "    # 檢查輸入的高度是否合理\n",
    "    if height < 3:\n",
    "        print(\"聖誕樹的高度至少應為 3。\")\n",
    "        return\n",
    "\n",
    "    # 迴圈來列印樹的每一層\n",
    "    for i in range(height):\n",
    "        # 計算每一層需要多少空格和多少星星\n",
    "        spaces = \" \" * (height - i - 1)\n",
    "        stars = \"*\" * (2 * i + 1)\n",
    "        \n",
    "        # 列印這一層\n",
    "        print(spaces + stars)\n",
    "\n",
    "    # 迴圈結束後，列印樹幹\n",
    "    trunk_spaces = \" \" * (height - 1)\n",
    "    print(trunk_spaces + \"|\")\n",
    "    \n",
    "    # 印出樹底\n",
    "    base_spaces = \" \" * (height - 2)\n",
    "    print(base_spaces + \"---\")\n",
    "\n",
    "\n",
    "# 範例：呼叫函式來列印不同大小的聖誕樹\n",
    "print(\"--- 高度為 5 的聖誕樹 ---\")\n",
    "print_christmas_tree(5)\n",
    "\n",
    "print(\"\\n--- 高度為 8 的聖誕樹 ---\")\n",
    "print_christmas_tree(8)"
   ]
  },
  {
   "cell_type": "code",
   "execution_count": 2,
   "id": "bce4f166",
   "metadata": {},
   "outputs": [
    {
     "name": "stdout",
     "output_type": "stream",
     "text": [
      "      *\n",
      "     ***\n",
      "    *****\n",
      "   *******\n",
      "  *********\n",
      "      |\n",
      "      |\n",
      "    -----\n"
     ]
    }
   ],
   "source": [
    "#自訂一個function，必需列印出聖誕樹,不要使用迴圈，只要使用純print，要有樹葉和樹幹\n",
    "#todo:實作function列印聖誕樹\n",
    "def print_christmas_tree():\n",
    "    \"\"\"\n",
    "    使用純 print 語句來列印一個固定大小的聖誕樹。\n",
    "    包含樹葉和樹幹。\n",
    "    \"\"\"\n",
    "    # 樹葉\n",
    "    print(\"      *\")\n",
    "    print(\"     ***\")\n",
    "    print(\"    *****\")\n",
    "    print(\"   *******\")\n",
    "    print(\"  *********\")\n",
    "    \n",
    "    # 樹幹\n",
    "    print(\"      |\")\n",
    "    print(\"      |\")\n",
    "    print(\"    -----\")\n",
    "    \n",
    "\n",
    "# 呼叫函式來列印聖誕樹\n",
    "print_christmas_tree()"
   ]
  },
  {
   "cell_type": "code",
   "execution_count": 8,
   "id": "faa00b88",
   "metadata": {},
   "outputs": [
    {
     "name": "stdout",
     "output_type": "stream",
     "text": [
      "圓面積=98.52\n",
      "圓周長=35.19\n"
     ]
    }
   ],
   "source": [
    "#自訂一個function,會計算圓面績和圓周長\n",
    "#todo:實作function計算圓面積和圓周長\n",
    "import math\n",
    "\n",
    "def calculate_circle(radius):   #只有一個參數\n",
    "    #計算圓面積\n",
    "    area = math.pi * radius ** 2\n",
    "    #計算圓周長\n",
    "    circumference  =  2 * math.pi * radius\n",
    "    return(area,circumference)  #tuple出二個引數\n",
    "\n",
    "#呼叫函式,計算圓面積和圓周長\n",
    "radius = float(input(\"請輸入圓的半徑：\"))\n",
    "area,circumference = calculate_circle(radius)\n",
    "print(f\"圓面積={area:.2f}\")\n",
    "print(f\"圓周長={circumference:.2f}\")\n"
   ]
  },
  {
   "cell_type": "code",
   "execution_count": null,
   "id": "12d953ab",
   "metadata": {},
   "outputs": [],
   "source": []
  }
 ],
 "metadata": {
  "kernelspec": {
   "display_name": "LangChain",
   "language": "python",
   "name": "python3"
  },
  "language_info": {
   "codemirror_mode": {
    "name": "ipython",
    "version": 3
   },
   "file_extension": ".py",
   "mimetype": "text/x-python",
   "name": "python",
   "nbconvert_exporter": "python",
   "pygments_lexer": "ipython3",
   "version": "3.11.13"
  }
 },
 "nbformat": 4,
 "nbformat_minor": 5
}
