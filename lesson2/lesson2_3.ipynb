{
 "cells": [
  {
   "cell_type": "code",
   "execution_count": null,
   "id": "fdef024e",
   "metadata": {},
   "outputs": [
    {
     "name": "stdout",
     "output_type": "stream",
     "text": [
      "10\n",
      "30\n"
     ]
    }
   ],
   "source": [
    "# 運算值\n",
    "i   = 10   #定義I=10\n",
    "i   +  50   #10+50,沒有傳給值\n",
    "print(i)    #i=10\n",
    "\n",
    "j = i +20   #10+20,=是把右邊的值給左邊，j=i+20,<1>右邊10+20 <2>=將右邊的值給J)\n",
    "print(j)"
   ]
  },
  {
   "cell_type": "code",
   "execution_count": null,
   "id": "8d5a1b95",
   "metadata": {},
   "outputs": [
    {
     "data": {
      "text/plain": [
       "60"
      ]
     },
     "execution_count": 3,
     "metadata": {},
     "output_type": "execute_result"
    }
   ],
   "source": [
    "# 複合執令運算值\n",
    "i = 10\n",
    "i +=50  #i = i+50\n",
    "i\n"
   ]
  },
  {
   "cell_type": "code",
   "execution_count": 9,
   "id": "6f84acbe",
   "metadata": {},
   "outputs": [
    {
     "name": "stdout",
     "output_type": "stream",
     "text": [
      "1\n",
      "3\n",
      "5\n",
      "7\n",
      "9\n"
     ]
    },
    {
     "data": {
      "text/plain": [
       "5050"
      ]
     },
     "execution_count": 9,
     "metadata": {},
     "output_type": "execute_result"
    }
   ],
   "source": [
    "# 1加到10\n",
    "i  = 0\n",
    "i += 1\n",
    "i += 2\n",
    "i += 3\n",
    "i += 4\n",
    "i += 5\n",
    "i += 6\n",
    "i += 7\n",
    "i += 8\n",
    "i += 9\n",
    "i += 10\n",
    "i\n",
    "\n",
    "#重複執行\n",
    "#for in(明確知道執行次時數使用)\n",
    "#for 區塊變數   in  串列資料(程式區塊)\n",
    "#如何得到串列資料range\n",
    "# 引數值的呼叫，range(10)，只傳出0~9 #class range(stop, /)\n",
    "# 引數rangw(1,11) #class range(start, stop, step=1, /)\n",
    "#while(不知道執行的次時)\n",
    "\n",
    "j   =   0\n",
    "\n",
    "for i in range(1,11,2):\n",
    "    print(i)\n",
    "\n",
    "i   =   0\n",
    "for j   in  range(1,11):\n",
    "    i   += j\n",
    "i\n",
    "\n",
    "i   =   0\n",
    "for j    in range(1,101):\n",
    "    i   +=   j\n",
    "i"
   ]
  },
  {
   "cell_type": "code",
   "execution_count": null,
   "id": "e9568ff7",
   "metadata": {},
   "outputs": [],
   "source": [
    "#判斷迴圈\n",
    "#While True\n",
    "#A區塊\n",
    "#B區塊\n",
    "#break\n",
    "\n",
    "#while True\n",
    "#A區塊\n",
    "#B區塊\n",
    "#continue\n",
    "\n",
    "# 猜數字遊戲(簡化版)\n",
    "import random\n",
    "secret_unmber  =  random.randint(1,10) #二個參數值，二個引數值\n",
    "#print(secret_unmber)\n",
    "while True: #無限迴圈\n",
    "    guess  =  int(input(\"請猜一個1到10的數字:\"))   #\n",
    "    if guess   == secret_unmber:\n",
    "        print(\"猜對了!\")\n",
    "        break\n",
    "    elif   guess  <  secret_unmber:\n",
    "        print(\"太小了!\")\n",
    "    else:\n",
    "        print(\"太大了!\")\n",
    "print(\"遊戲結束\")"
   ]
  }
 ],
 "metadata": {
  "kernelspec": {
   "display_name": "LangChain",
   "language": "python",
   "name": "python3"
  },
  "language_info": {
   "codemirror_mode": {
    "name": "ipython",
    "version": 3
   },
   "file_extension": ".py",
   "mimetype": "text/x-python",
   "name": "python",
   "nbconvert_exporter": "python",
   "pygments_lexer": "ipython3",
   "version": "3.11.13"
  }
 },
 "nbformat": 4,
 "nbformat_minor": 5
}
