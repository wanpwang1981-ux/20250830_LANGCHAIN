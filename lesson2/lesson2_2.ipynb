{
 "cells": [
  {
   "cell_type": "markdown",
   "id": "426443f1",
   "metadata": {},
   "source": []
  },
  {
   "cell_type": "code",
   "execution_count": null,
   "id": "b6ed45ea",
   "metadata": {},
   "outputs": [
    {
     "name": "stdout",
     "output_type": "stream",
     "text": [
      "robert\n",
      "他人不錯\n"
     ]
    }
   ],
   "source": [
    "is_nice:bool = True # 布林值\n",
    "print(\"robert\")\n",
    "#單項選擇\n",
    "if is_nice:\n",
    "    print(\"他人不錯\")\n",
    "#雙項選擇\n",
    "if is_nice:\n",
    "    print(\"他人不錯\")\n",
    "else:\n",
    "    print(\"他人很差\")"
   ]
  },
  {
   "cell_type": "code",
   "execution_count": null,
   "id": "f648b813",
   "metadata": {},
   "outputs": [
    {
     "name": "stdout",
     "output_type": "stream",
     "text": [
      "及格\n",
      "及格\n"
     ]
    }
   ],
   "source": [
    "#多項選擇\n",
    "score = 75\n",
    "if score >= 90:\n",
    "    print(\"優秀\")\n",
    "elif score >= 80:\n",
    "    print(\"良好\")\n",
    "elif score >= 60:   \n",
    "    print(\"及格\")\n",
    "else:\n",
    "    print(\"不及格\")\n",
    "\n",
    "\n",
    "\n"
   ]
  }
 ],
 "metadata": {
  "kernelspec": {
   "display_name": "LangChain",
   "language": "python",
   "name": "python3"
  },
  "language_info": {
   "codemirror_mode": {
    "name": "ipython",
    "version": 3
   },
   "file_extension": ".py",
   "mimetype": "text/x-python",
   "name": "python",
   "nbconvert_exporter": "python",
   "pygments_lexer": "ipython3",
   "version": "3.11.13"
  }
 },
 "nbformat": 4,
 "nbformat_minor": 5
}
