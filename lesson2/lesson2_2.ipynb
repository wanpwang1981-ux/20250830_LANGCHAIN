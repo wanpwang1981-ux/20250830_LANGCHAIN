{
 "cells": [
  {
   "cell_type": "markdown",
   "id": "426443f1",
   "metadata": {},
   "source": []
  },
  {
   "cell_type": "code",
   "execution_count": null,
   "id": "b6ed45ea",
   "metadata": {},
   "outputs": [
    {
     "name": "stdout",
     "output_type": "stream",
     "text": [
      "robert\n",
      "他人不錯\n"
     ]
    }
   ],
   "source": [
    "is_nice:bool = True # 布林值\n",
    "print(\"robert\")\n",
    "#單項選擇\n",
    "if is_nice:            #一個條件\n",
    "    print(\"他人不錯\")   #程式區塊\n",
    "#雙項選擇\n",
    "if is_nice:             #一個條件\n",
    "    print(\"他人不錯\")   #程式區塊\n",
    "else:                   #一個條件\n",
    "    print(\"他人很差\")   #程式區塊"
   ]
  },
  {
   "cell_type": "code",
   "execution_count": 4,
   "id": "f648b813",
   "metadata": {},
   "outputs": [
    {
     "name": "stdout",
     "output_type": "stream",
     "text": [
      "及格\n"
     ]
    }
   ],
   "source": [
    "#多項選擇：如果有很多判斷嚴格的要放在上面(什麼是嚴格?區分10分以下和0分，0分要放最上面)\n",
    "score = 75\n",
    "if score >= 90: # 只有一個IF(一個條件)，只要執行程式區塊就跳出，條件嚴格的放在上面  \n",
    "    print(\"優秀\")   #程式區塊\n",
    "elif score >= 80:   #elif(二個條件)\n",
    "    print(\"良好\")   #程式區塊\n",
    "elif score >= 60:   #elif(二個條件)\n",
    "    print(\"及格\")   #程式區塊\n",
    "else:               #一個條件       \n",
    "    print(\"不及格\")  #程式區塊\n",
    "\n",
    "\n",
    "\n"
   ]
  }
 ],
 "metadata": {
  "kernelspec": {
   "display_name": "LangChain",
   "language": "python",
   "name": "python3"
  },
  "language_info": {
   "codemirror_mode": {
    "name": "ipython",
    "version": 3
   },
   "file_extension": ".py",
   "mimetype": "text/x-python",
   "name": "python",
   "nbconvert_exporter": "python",
   "pygments_lexer": "ipython3",
   "version": "3.11.13"
  }
 },
 "nbformat": 4,
 "nbformat_minor": 5
}
