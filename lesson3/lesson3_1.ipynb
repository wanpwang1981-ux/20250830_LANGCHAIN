{
 "cells": [
  {
   "cell_type": "code",
   "execution_count": 4,
   "id": "92890304",
   "metadata": {},
   "outputs": [
    {
     "name": "stdout",
     "output_type": "stream",
     "text": [
      "現在的日期和時間： 2025-09-13 10:23:03.684522\n",
      "隨機產生的數字： 1\n",
      "目前的工作目錄： d:\\GitHub\\20250830_LANGCHAIN\\lesson3\n"
     ]
    }
   ],
   "source": [
    "# 使用python內建的標準函式庫,建立範例\n",
    "# 這裡我們將示範如何使用 Python 內建的標準函式庫（例如 datetime、random、os）\n",
    "import datetime\n",
    "import random\n",
    "import os\n",
    "\n",
    "# 範例1：使用 datetime 取得現在的日期和時間\n",
    "now = datetime.datetime.now()\n",
    "print(\"現在的日期和時間：\", now)\n",
    "\n",
    "# 範例2：使用 random 產生 1 到 10 之間的隨機整數\n",
    "rand_num = random.randint(1, 10)\n",
    "print(\"隨機產生的數字：\", rand_num)\n",
    "\n",
    "# 範例3：使用 os 取得目前的工作目錄\n",
    "current_dir = os.getcwd()\n",
    "print(\"目前的工作目錄：\", current_dir)\n"
   ]
  },
  {
   "cell_type": "code",
   "execution_count": 12,
   "id": "299cd597",
   "metadata": {},
   "outputs": [
    {
     "name": "stdout",
     "output_type": "stream",
     "text": [
      "HTTP 狀態碼： 200\n",
      "<class 'property'>\n",
      "網頁內容前100字： <!doctype html><html itemscope=\"\" itemtype=\"http://schema.org/WebPage\" lang=\"zh-TW\"><head><meta cont\n"
     ]
    }
   ],
   "source": [
    "# 利用Python的外部套件requests,用來說明外部套的安裝和說明\n",
    "# 說明：requests 是一個非常流行的 Python 外部套件，用來發送 HTTP 請求。\n",
    "# 安裝方式（在終端機執行）：\n",
    "# pip install requests\n",
    "\n",
    "# 匯入 requests 套件\n",
    "import requests\n",
    "from requests.models import Response\n",
    "\n",
    "# 範例：使用 requests 取得一個網頁的內容\n",
    "response = requests.get(\"https://www.google.com\")\n",
    "print(\"HTTP 狀態碼：\", response.status_code)\n",
    "print(type(Response.text))\n",
    "print(\"網頁內容前100字：\", response.text[:100])\n"
   ]
  },
  {
   "cell_type": "code",
   "execution_count": 15,
   "id": "5f4e2a92",
   "metadata": {},
   "outputs": [
    {
     "name": "stdout",
     "output_type": "stream",
     "text": [
      "現在的日期和時間： 2025-09-13 11:18:57.898788\n",
      "隨機產生的數字： 7\n",
      "目前的工作目錄： d:\\GitHub\\20250830_LANGCHAIN\\lesson3\n"
     ]
    }
   ],
   "source": [
    "# 使用python內建的標準函式庫,建立範例\n",
    "# 這裡我們將示範如何使用 Python 內建的標準函式庫（例如 datetime、random、os）\n",
    "import datetime\n",
    "import random\n",
    "import os\n",
    "\n",
    "# 範例1：使用 datetime 取得現在的日期和時間\n",
    "now = datetime.datetime.now()\n",
    "print(\"現在的日期和時間：\", now)\n",
    "\n",
    "# 範例2：使用 random 產生 1 到 10 之間的隨機整數\n",
    "rand_num = random.randint(1, 10)\n",
    "print(\"隨機產生的數字：\", rand_num)\n",
    "\n",
    "# 範例3：使用 os 取得目前的工作目錄\n",
    "current_dir = os.getcwd()\n",
    "print(\"目前的工作目錄：\", current_dir)"
   ]
  },
  {
   "cell_type": "markdown",
   "id": "73ee96f3",
   "metadata": {},
   "source": [
    "現在的日期和時間： 2025-09-13 10:08:14.021704\n",
    "隨機產生的數字： 1\n",
    "目前的工作目錄： /Users/roberthsu2003/Documents/GitHub/__2025_08_30__chihlee_langchain__/lesson3\n",
    "利用 Python 的外部套件 requests，說明外部套件的安裝與使用\n",
    "在使用 requests 套件前，請先確定已經安裝。可以在終端機（Terminal）或 Jupyter Notebook 中執行以下指令安裝：\n",
    "\n",
    "並且要建立範例:\n",
    "\n",
    "pip install requests\n",
    "範例：使用 requests 套件發送 GET 請求\n",
    "import requests\n",
    "\n",
    "response = requests.get(\"https://www.google.com\") print(\"回應的狀態碼：\", response.status_code) print(\"回應的前100個字元：\", response.text[:100])"
   ]
  },
  {
   "cell_type": "code",
   "execution_count": 13,
   "id": "fb435db2",
   "metadata": {},
   "outputs": [
    {
     "name": "stdout",
     "output_type": "stream",
     "text": [
      "回應的狀態碼： 200\n",
      "回應的前100個字元： <!doctype html><html itemscope=\"\" itemtype=\"http:/\n"
     ]
    }
   ],
   "source": [
    "import requests\n",
    "response = requests.get(\"https://www.google.com\")\n",
    "print(\"回應的狀態碼：\", response.status_code)\n",
    "#print(type(response.text))\n",
    "print(\"回應的前100個字元：\", response.text[:50])\n",
    "#print(\"全部內容：\", response.text)"
   ]
  }
 ],
 "metadata": {
  "kernelspec": {
   "display_name": "LangChain",
   "language": "python",
   "name": "python3"
  },
  "language_info": {
   "codemirror_mode": {
    "name": "ipython",
    "version": 3
   },
   "file_extension": ".py",
   "mimetype": "text/x-python",
   "name": "python",
   "nbconvert_exporter": "python",
   "pygments_lexer": "ipython3",
   "version": "3.11.13"
  }
 },
 "nbformat": 4,
 "nbformat_minor": 5
}
