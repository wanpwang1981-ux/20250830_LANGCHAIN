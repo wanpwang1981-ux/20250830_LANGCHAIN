{
 "cells": [
  {
   "cell_type": "markdown",
   "id": "d3694571",
   "metadata": {},
   "source": [
    "### 使用ollama 模型"
   ]
  },
  {
   "cell_type": "code",
   "execution_count": null,
   "id": "fc0d5c4a",
   "metadata": {},
   "outputs": [
    {
     "name": "stdout",
     "output_type": "stream",
     "text": [
      "<class 'langchain_core.messages.ai.AIMessage'>\n",
      "所有答案\n",
      "content='81 除以 9 的结果为 9。' additional_kwargs={} response_metadata={'model': 'llama3.2:latest', 'created_at': '2025-09-20T06:38:11.8921224Z', 'done': True, 'done_reason': 'stop', 'total_duration': 517440900, 'load_duration': 203988100, 'prompt_eval_count': 33, 'prompt_eval_duration': 2101100, 'eval_count': 13, 'eval_duration': 309002700, 'model_name': 'llama3.2:latest'} id='run--3cfe2018-c509-4c0e-abe9-a8fb91ce34d0-0' usage_metadata={'input_tokens': 33, 'output_tokens': 13, 'total_tokens': 46}\n",
      "回答內容是\n",
      "81 除以 9 的结果为 9。\n"
     ]
    }
   ],
   "source": [
    "from langchain_ollama import ChatOllama\n",
    "\n",
    "\n",
    "# Create a ChatOllama model\n",
    "# 透過網址的方式連結ollama (指定 base_url 指向 Ollama server)\n",
    "# 預設 Ollama server 在本機的 11434 埠，若在其他主機或埠請改成相對應的網址\n",
    "\n",
    "#model = ChatOllama(model=\"llama3.2:latest\", base_url=\"http://host.docker.internal:11434\")\n",
    "model = ChatOllama(model=\"llama3.2:latest\",base_url=\"http://localhost:11434\")\n",
    "\n",
    "\n",
    "# Invoke the model with a message\n",
    "result = model.invoke(\"81除以9的答案是?\")\n",
    "print(type(result))\n",
    "print(\"所有答案\")\n",
    "print(result)\n",
    "print(\"回答內容是\")\n",
    "print(result.content)"
   ]
  },
  {
   "cell_type": "markdown",
   "id": "aaa01376",
   "metadata": {},
   "source": [
    "### google-gemini"
   ]
  },
  {
   "cell_type": "code",
   "execution_count": 18,
   "id": "79589f95",
   "metadata": {},
   "outputs": [
    {
     "name": "stdout",
     "output_type": "stream",
     "text": [
      "<class 'langchain_google_genai.chat_models.ChatGoogleGenerativeAI'>\n",
      "<class 'langchain_core.messages.ai.AIMessage'>\n",
      "所有答案\n",
      "content='5421 除以 9 的答案是：\\n\\n**602 余 3**\\n\\n计算过程：\\n5421 ÷ 9 = 602 ... 3' additional_kwargs={} response_metadata={'prompt_feedback': {'block_reason': 0, 'safety_ratings': []}, 'finish_reason': 'STOP', 'model_name': 'gemini-2.5-flash', 'safety_ratings': []} id='run--aaaf4a9d-49d5-4dfe-b83e-29ac69820fca-0' usage_metadata={'input_tokens': 12, 'output_tokens': 806, 'total_tokens': 818, 'input_token_details': {'cache_read': 0}, 'output_token_details': {'reasoning': 765}}\n",
      "回答內容是\n",
      "5421 除以 9 的答案是：\n",
      "\n",
      "**602 余 3**\n",
      "\n",
      "计算过程：\n",
      "5421 ÷ 9 = 602 ... 3\n"
     ]
    }
   ],
   "source": [
    "from dotenv import load_dotenv\n",
    "from langchain_google_genai import ChatGoogleGenerativeAI\n",
    "\n",
    "# Load environment variables from .env\n",
    "load_dotenv()\n",
    "\n",
    "# Create a ChatGoogleGenerativeAI model\n",
    "model = ChatGoogleGenerativeAI(model=\"gemini-2.5-flash\",temperature=1)\n",
    "# temperature=1\n",
    "print(type(model))\n",
    "#Invoke the model with a message\n",
    "result = model.invoke(\"5421除以9的答案是?\")\n",
    "print(type(result))\n",
    "print(\"所有答案\")\n",
    "print(result)\n",
    "print(\"回答內容是\")\n",
    "print(result.content)"
   ]
  },
  {
   "cell_type": "markdown",
   "id": "19e53905",
   "metadata": {},
   "source": [
    "### google-gemini\n",
    "## 函式不會用就問Comet(prexility)\n",
    "##"
   ]
  },
  {
   "cell_type": "code",
   "execution_count": null,
   "id": "c90a6733",
   "metadata": {},
   "outputs": [
    {
     "name": "stdout",
     "output_type": "stream",
     "text": [
      "<class 'langchain_google_genai.chat_models.ChatGoogleGenerativeAI'>\n",
      "<class 'langchain_core.messages.ai.AIMessage'>\n",
      "所有答案\n",
      "回答內容是\n",
      "秋風輕拂過山崗，\n",
      "染黃了樹梢，染紅了楓林。\n",
      "天高雲淡，陽光暖，\n",
      "不似盛夏的熾烈，卻溫柔熨帖人心。\n",
      "\n",
      "清冽空氣入心房，\n",
      "蟲鳴漸稀，雁南翔。\n",
      "牠們劃破長空，帶走夏的喧囂，\n",
      "留下深沉與廣闊的篇章。\n",
      "\n",
      "田野披金甲，稻浪翻滾麥穗香，\n",
      "果實纍纍掛枝上，收穫喜悅溢滿莊。\n",
      "菊香淡淡，酒釀醇，\n",
      "這是大自然的慷慨，也是歲月的豐藏。\n",
      "\n",
      "時光輕慢流，萬物歸於靜，\n",
      "葉落歸根，化作泥土深情。\n",
      "一抹斑斕，一聲嘆息，\n",
      "秋，是沉澱，是孕育，更是詩意濃。\n",
      "\n",
      "願將此景入詩行，\n",
      "留住這份靜謐與安詳。\n",
      "秋，是季節的終章，\n",
      "亦是生命，深思後的再啟航。\n"
     ]
    }
   ],
   "source": [
    "from dotenv import load_dotenv\n",
    "from langchain_google_genai import ChatGoogleGenerativeAI\n",
    "\n",
    "# Load environment variables from .env\n",
    "load_dotenv()\n",
    "\n",
    "# Create a ChatGoogleGenerativeAI model\n",
    "model = ChatGoogleGenerativeAI(model=\"gemini-2.5-flash\",temperature=1)\n",
    "print(type(model))\n",
    "\n",
    "#Invoke the model with a message\n",
    "result =mo del.invoke(\"請用中文寫一首關於秋天的詩\")\n",
    "print(type(result))\n",
    "print(\"所有答案\")\n",
    "#json_data = result.to_json()\n",
    "#print(json_data[\"kwargs\"][\"content\"])\n",
    "print(\"回答內容是\")\n",
    "print(result.content)"
   ]
  },
  {
   "cell_type": "code",
   "execution_count": null,
   "id": "85579ba0",
   "metadata": {},
   "outputs": [],
   "source": [
    "from dotenv import load_dotenv\n",
    "from langchain_openai import ChatOpenAI\n",
    "\n",
    "# Load environment variables from .env\n",
    "load_dotenv()\n",
    "\n",
    "# Create a ChatOpenAI model\n",
    "model = ChatOpenAI(model=\"gpt-5-mini\")\n",
    "\n",
    "# Invoke the model with a message\n",
    "result = model.invoke(\"81除以9的答案是?\")\n",
    "print(type(result))\n",
    "print(\"所有答案\")\n",
    "print(result)\n",
    "print(\"回答內容是\")\n",
    "print(result.content)"
   ]
  },
  {
   "cell_type": "code",
   "execution_count": null,
   "id": "0022a5e5",
   "metadata": {},
   "outputs": [],
   "source": [
    "from dotenv import load_dotenv\n",
    "from langchain_anthropic import ChatAnthropic\n",
    "\n",
    "# Load environment variables from .env\n",
    "load_dotenv()\n",
    "\n",
    "# Create a ChatAnthropic model\n",
    "model = ChatAnthropic(model=\"claude-3-5-sonnet-latest\")\n",
    "\n",
    "\n",
    "# Invoke the model with a message\n",
    "result = model.invoke(\"81除以9的答案是?\")\n",
    "print(type(result))\n",
    "print(\"所有答案\")\n",
    "print(result)\n",
    "print(\"回答內容是\")\n",
    "print(result.content)"
   ]
  }
 ],
 "metadata": {
  "kernelspec": {
   "display_name": ".venv",
   "language": "python",
   "name": "python3"
  },
  "language_info": {
   "codemirror_mode": {
    "name": "ipython",
    "version": 3
   },
   "file_extension": ".py",
   "mimetype": "text/x-python",
   "name": "python",
   "nbconvert_exporter": "python",
   "pygments_lexer": "ipython3",
   "version": "3.10.6"
  }
 },
 "nbformat": 4,
 "nbformat_minor": 5
}
